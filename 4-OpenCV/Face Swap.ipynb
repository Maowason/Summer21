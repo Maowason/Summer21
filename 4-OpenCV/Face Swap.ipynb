{
 "cells": [
  {
   "cell_type": "code",
   "execution_count": 1,
   "metadata": {},
   "outputs": [],
   "source": [
    "import cv2"
   ]
  },
  {
   "cell_type": "code",
   "execution_count": 2,
   "metadata": {},
   "outputs": [],
   "source": [
    "model = cv2.CascadeClassifier('haarcascade_frontalface_default.xml')"
   ]
  },
  {
   "cell_type": "code",
   "execution_count": 3,
   "metadata": {},
   "outputs": [],
   "source": [
    "photo1 = cv2.imread('Capture1.JPG')\n",
    "face1 = model.detectMultiScale(photo1)\n",
    "p1x1 = face1[0][0]\n",
    "p1y1 = face1[0][1]\n",
    "p1x2 = p1x1 + face1[0][3]\n",
    "p1y2 = p1y1 + face1[0][2]"
   ]
  },
  {
   "cell_type": "code",
   "execution_count": 4,
   "metadata": {},
   "outputs": [],
   "source": [
    "photo2 = cv2.imread('Capture.JPG')\n",
    "tphoto2 = cv2.imread('Capture.JPG')\n",
    "face2 = model.detectMultiScale(photo2)\n",
    "p2x1 = face2[0][0]\n",
    "p2y1 = face2[0][1]\n",
    "p2x2 = p2x1 + face2[0][3]\n",
    "p2y2 = p2y1 + face2[0][2]"
   ]
  },
  {
   "cell_type": "code",
   "execution_count": 5,
   "metadata": {},
   "outputs": [],
   "source": [
    "cphoto1 = photo1[p1y1:p1y2, p1x1:p1x2]\n",
    "cphoto2 = photo2[p2y1:p2y2, p2x1:p2x2]\n",
    "tcphoto2 = tphoto2[p2y1:p2y2, p2x1:p2x2]"
   ]
  },
  {
   "cell_type": "code",
   "execution_count": null,
   "metadata": {},
   "outputs": [],
   "source": [
    "for i in range(p2y1, p2y1+len(cphoto1)):\n",
    "    for j in range(p2x1, p2x1+len(cphoto1)):\n",
    "        tphoto2[i][j] = cphoto1[i-p2y1][j-p2x1]\n",
    "for i in range(p1y1, p1y1+len(cphoto2)):\n",
    "    for j in range(p1x1, p1x1+len(tcphoto2)):\n",
    "        photo1[i][j] = cphoto2[i-p1y1][j-p1x1]\n",
    "cv2.imshow('Pic 1', photo1)\n",
    "cv2.imshow('Pic 2', tphoto2)\n",
    "cv2.waitKey()\n",
    "cv2.destroyAllWindows()"
   ]
  },
  {
   "cell_type": "code",
   "execution_count": null,
   "metadata": {},
   "outputs": [],
   "source": []
  },
  {
   "cell_type": "code",
   "execution_count": null,
   "metadata": {},
   "outputs": [],
   "source": []
  }
 ],
 "metadata": {
  "kernelspec": {
   "display_name": "Python 3",
   "language": "python",
   "name": "python3"
  },
  "language_info": {
   "codemirror_mode": {
    "name": "ipython",
    "version": 3
   },
   "file_extension": ".py",
   "mimetype": "text/x-python",
   "name": "python",
   "nbconvert_exporter": "python",
   "pygments_lexer": "ipython3",
   "version": "3.8.5"
  }
 },
 "nbformat": 4,
 "nbformat_minor": 4
}
